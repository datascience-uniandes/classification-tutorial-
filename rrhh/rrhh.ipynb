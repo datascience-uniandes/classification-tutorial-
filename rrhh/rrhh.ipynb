{
 "cells": [
  {
   "cell_type": "markdown",
   "metadata": {},
   "source": [
    "<a href=\"https://colab.research.google.com/github/datascience-uniandes/classification_tutorial/blob/master/rrhh/rrhh.ipynb\" target=\"_parent\"><img src=\"https://colab.research.google.com/assets/colab-badge.svg\" alt=\"Open In Colab\"/></a>"
   ]
  },
  {
   "cell_type": "markdown",
   "metadata": {},
   "source": [
    "# Classification: Predict if an employee will left the company\n",
    "\n",
    "MINE-4101: Applied Data Science  \n",
    "Univerisdad de los Andes  \n",
    "  \n",
    "Last update: October, 2023"
   ]
  },
  {
   "cell_type": "code",
   "execution_count": null,
   "metadata": {},
   "outputs": [],
   "source": [
    "import pandas as pd\n",
    "\n",
    "from sklearn.tree import DecisionTreeClassifier, plot_tree\n",
    "from sklearn.model_selection import train_test_split\n",
    "from sklearn.metrics import ConfusionMatrixDisplay, precision_score, recall_score, f1_score\n",
    "\n",
    "import matplotlib.pyplot as plt\n",
    "%matplotlib inline"
   ]
  },
  {
   "cell_type": "markdown",
   "metadata": {},
   "source": [
    "### Reading the dataset"
   ]
  },
  {
   "cell_type": "code",
   "execution_count": null,
   "metadata": {},
   "outputs": [],
   "source": [
    "rrhh_df = pd.read_csv('./data/rrhh.csv', sep = ',')"
   ]
  },
  {
   "cell_type": "code",
   "execution_count": null,
   "metadata": {},
   "outputs": [],
   "source": [
    "rrhh_df.rename(columns = {'sales' : 'department'}, inplace = True)"
   ]
  },
  {
   "cell_type": "code",
   "execution_count": null,
   "metadata": {},
   "outputs": [],
   "source": [
    "rrhh_df.shape"
   ]
  },
  {
   "cell_type": "code",
   "execution_count": null,
   "metadata": {},
   "outputs": [],
   "source": [
    "rrhh_df.dtypes"
   ]
  },
  {
   "cell_type": "code",
   "execution_count": null,
   "metadata": {},
   "outputs": [],
   "source": [
    "rrhh_df.head()"
   ]
  },
  {
   "cell_type": "code",
   "execution_count": null,
   "metadata": {},
   "outputs": [],
   "source": [
    "rrhh_df['left'].value_counts(dropna = False, normalize = True)"
   ]
  },
  {
   "cell_type": "markdown",
   "metadata": {},
   "source": [
    "### Splitting train and test datasets"
   ]
  },
  {
   "cell_type": "code",
   "execution_count": null,
   "metadata": {},
   "outputs": [],
   "source": [
    "features = ['satisfaction_level', 'last_evaluation', 'number_project', 'average_montly_hours', 'time_spend_company', 'Work_accident', 'promotion_last_5years']"
   ]
  },
  {
   "cell_type": "code",
   "execution_count": null,
   "metadata": {},
   "outputs": [],
   "source": [
    "X = rrhh_df[features]"
   ]
  },
  {
   "cell_type": "code",
   "execution_count": null,
   "metadata": {},
   "outputs": [],
   "source": [
    "Y = rrhh_df['left']"
   ]
  },
  {
   "cell_type": "code",
   "execution_count": null,
   "metadata": {},
   "outputs": [],
   "source": [
    "X_train, X_test, Y_train, Y_test = train_test_split(X, Y, test_size = 0.2, stratify = Y, random_state = 100)"
   ]
  },
  {
   "cell_type": "code",
   "execution_count": null,
   "metadata": {},
   "outputs": [],
   "source": [
    "Y_train.value_counts(normalize = True)"
   ]
  },
  {
   "cell_type": "code",
   "execution_count": null,
   "metadata": {},
   "outputs": [],
   "source": [
    "Y_test.value_counts(normalize = True)"
   ]
  },
  {
   "cell_type": "markdown",
   "metadata": {},
   "source": [
    "### Training the model"
   ]
  },
  {
   "cell_type": "code",
   "execution_count": null,
   "metadata": {},
   "outputs": [],
   "source": [
    "model = DecisionTreeClassifier(max_depth = 4, criterion = 'entropy', random_state = 200)"
   ]
  },
  {
   "cell_type": "code",
   "execution_count": null,
   "metadata": {},
   "outputs": [],
   "source": [
    "model.fit(X_train, Y_train)"
   ]
  },
  {
   "cell_type": "code",
   "execution_count": null,
   "metadata": {},
   "outputs": [],
   "source": [
    "plt.figure(figsize = (30, 20))\n",
    "plot_tree(model, feature_names = model.feature_names_in_)\n",
    "plt.show()"
   ]
  },
  {
   "cell_type": "markdown",
   "metadata": {},
   "source": [
    "### Evaluating the model"
   ]
  },
  {
   "cell_type": "code",
   "execution_count": null,
   "metadata": {},
   "outputs": [],
   "source": [
    "predictions = model.predict(X_test)"
   ]
  },
  {
   "cell_type": "code",
   "execution_count": null,
   "metadata": {},
   "outputs": [],
   "source": [
    "ConfusionMatrixDisplay.from_predictions(Y_test, predictions)"
   ]
  },
  {
   "cell_type": "code",
   "execution_count": null,
   "metadata": {},
   "outputs": [],
   "source": [
    "print('Precision:', precision_score(Y_test, predictions))\n",
    "print('Recall:', recall_score(Y_test, predictions))\n",
    "print('F1:', f1_score(Y_test, predictions))"
   ]
  },
  {
   "cell_type": "markdown",
   "metadata": {},
   "source": [
    "### Showing class distributions among features"
   ]
  },
  {
   "cell_type": "code",
   "execution_count": null,
   "metadata": {},
   "outputs": [],
   "source": [
    "fig, axes = plt.subplots(nrows = 4, ncols = 2, figsize = (15, 15))\n",
    "ax0, ax1, ax2, ax3, ax4, ax5, ax6, ax7 = axes.flatten()\n",
    "\n",
    "ax0.hist(rrhh_df.loc[rrhh_df['left'] == 1, 'satisfaction_level' ], label = 'Left', alpha = 0.5)\n",
    "ax0.hist(rrhh_df.loc[rrhh_df['left'] == 0, 'satisfaction_level' ], label = 'No left', alpha = 0.5)\n",
    "ax0.set_title('Satisfaction Level')\n",
    "ax0.legend()\n",
    "\n",
    "ax1.hist(rrhh_df.loc[rrhh_df['left'] == 1, 'last_evaluation' ], label = 'Left', alpha = 0.5)\n",
    "ax1.hist(rrhh_df.loc[rrhh_df['left'] == 0, 'last_evaluation' ], label = 'No left', alpha = 0.5)\n",
    "ax1.set_title('Last Evaluation')\n",
    "\n",
    "ax2.hist(rrhh_df.loc[rrhh_df['left'] == 1, 'number_project' ], label = 'Left', alpha = 0.5)\n",
    "ax2.hist(rrhh_df.loc[rrhh_df['left'] == 0, 'number_project' ], label = 'No left', alpha = 0.5)\n",
    "ax2.set_title('Number of Projects')\n",
    "\n",
    "ax3.hist(rrhh_df.loc[rrhh_df['left'] == 1, 'average_montly_hours' ], label = 'Left', alpha = 0.5)\n",
    "ax3.hist(rrhh_df.loc[rrhh_df['left'] == 0, 'average_montly_hours' ], label = 'No left', alpha = 0.5)\n",
    "ax3.set_title('Average Monthly Hours')\n",
    "\n",
    "ax4.hist(rrhh_df.loc[rrhh_df['left'] == 1, 'time_spend_company' ], label = 'Left', alpha = 0.5)\n",
    "ax4.hist(rrhh_df.loc[rrhh_df['left'] == 0, 'time_spend_company' ], label = 'No left', alpha = 0.5)\n",
    "ax4.set_title('Time Spend in Company')\n",
    "\n",
    "ax5.hist(rrhh_df.loc[rrhh_df['left'] == 1, 'Work_accident' ], label = 'Left', alpha = 0.5)\n",
    "ax5.hist(rrhh_df.loc[rrhh_df['left'] == 0, 'Work_accident' ], label = 'No left', alpha = 0.5)\n",
    "ax5.set_title('Work Accident')\n",
    "\n",
    "ax6.hist(rrhh_df.loc[rrhh_df['left'] == 1, 'promotion_last_5years' ], label = 'Left', alpha = 0.5)\n",
    "ax6.hist(rrhh_df.loc[rrhh_df['left'] == 0, 'promotion_last_5years' ], label = 'No left', alpha = 0.5)\n",
    "ax6.set_title('Promotion Last 5 Years')\n",
    "\n",
    "plt.show()"
   ]
  },
  {
   "cell_type": "markdown",
   "metadata": {},
   "source": [
    "### TODO:\n",
    "\n",
    "What is the effect to add the categorical features (department, salary)? How much performance metrics will be improved?"
   ]
  },
  {
   "cell_type": "code",
   "execution_count": null,
   "metadata": {},
   "outputs": [],
   "source": []
  }
 ],
 "metadata": {
  "kernelspec": {
   "display_name": "Python 3 (ipykernel)",
   "language": "python",
   "name": "python3"
  },
  "language_info": {
   "codemirror_mode": {
    "name": "ipython",
    "version": 3
   },
   "file_extension": ".py",
   "mimetype": "text/x-python",
   "name": "python",
   "nbconvert_exporter": "python",
   "pygments_lexer": "ipython3",
   "version": "3.9.12"
  }
 },
 "nbformat": 4,
 "nbformat_minor": 4
}
