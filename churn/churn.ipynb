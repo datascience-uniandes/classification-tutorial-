{
 "cells": [
  {
   "cell_type": "markdown",
   "id": "10fc4c26-292e-409b-a47a-0d6a250c7b53",
   "metadata": {},
   "source": [
    "<a href=\"https://colab.research.google.com/github/datascience-uniandes/classification_tutorial/blob/master/churn/churn.ipynb\" target=\"_parent\"><img src=\"https://colab.research.google.com/assets/colab-badge.svg\" alt=\"Open In Colab\"/></a>"
   ]
  },
  {
   "cell_type": "markdown",
   "id": "2773d4b5-281e-42f7-84a9-adfb5514cb97",
   "metadata": {},
   "source": [
    "# Classification: Detecting churn probability and causes\n",
    "\n",
    "MINE-4101: Applied Data Science  \n",
    "Univerisdad de los Andes  \n",
    "  \n",
    "Last update: October, 2023"
   ]
  },
  {
   "cell_type": "code",
   "execution_count": null,
   "id": "4cc60e19-dc08-4181-b929-3136410993c5",
   "metadata": {},
   "outputs": [],
   "source": [
    "!pip show shap"
   ]
  },
  {
   "cell_type": "code",
   "execution_count": null,
   "id": "1ccd76e4-a4ea-4a75-8f0c-258220a0f201",
   "metadata": {},
   "outputs": [],
   "source": [
    "from joblib import dump\n",
    "\n",
    "import pandas as pd\n",
    "\n",
    "import matplotlib.pyplot as plt\n",
    "import seaborn as sns\n",
    "\n",
    "from sklearn.pipeline import Pipeline\n",
    "from sklearn.compose import ColumnTransformer\n",
    "from sklearn.preprocessing import StandardScaler, MinMaxScaler\n",
    "from sklearn.preprocessing import OrdinalEncoder, OneHotEncoder\n",
    "from sklearn.preprocessing import PolynomialFeatures\n",
    "from sklearn.tree import DecisionTreeClassifier\n",
    "from sklearn.linear_model import LogisticRegression\n",
    "from sklearn.model_selection import GridSearchCV\n",
    "from sklearn.metrics import confusion_matrix, ConfusionMatrixDisplay\n",
    "from sklearn.metrics import precision_score, recall_score, f1_score\n",
    "\n",
    "from pandas_profiling import ProfileReport\n",
    "\n",
    "import shap"
   ]
  },
  {
   "cell_type": "code",
   "execution_count": null,
   "id": "34a2f9f3-8835-4209-97f0-7d3819c38d73",
   "metadata": {},
   "outputs": [],
   "source": [
    "pd.set_option('display.max_columns', None)\n",
    "pd.set_option('display.max_rows', 100)"
   ]
  },
  {
   "cell_type": "markdown",
   "id": "221aa317-8fa4-47a2-a46f-400f76b71756",
   "metadata": {
    "tags": []
   },
   "source": [
    "### Loading the data"
   ]
  },
  {
   "cell_type": "code",
   "execution_count": null,
   "id": "fc891ffd-9dfc-4c36-a36f-d8202f4943bd",
   "metadata": {},
   "outputs": [],
   "source": [
    "churn_df = pd.read_csv('./data/churn_train_val.csv')\n",
    "test_df = pd.read_csv('./data/churn_test_labeled.csv')"
   ]
  },
  {
   "cell_type": "code",
   "execution_count": null,
   "id": "3ef1ea3f-08cc-4af9-8d34-d4ab65093270",
   "metadata": {},
   "outputs": [],
   "source": [
    "churn_df.shape"
   ]
  },
  {
   "cell_type": "code",
   "execution_count": null,
   "id": "de2883ec-65db-4b84-af41-c73ce04be788",
   "metadata": {},
   "outputs": [],
   "source": [
    "test_df.shape"
   ]
  },
  {
   "cell_type": "code",
   "execution_count": null,
   "id": "aac9cc40-b46a-4a9c-a7ca-a57b7057d04d",
   "metadata": {},
   "outputs": [],
   "source": [
    "churn_df.dtypes"
   ]
  },
  {
   "cell_type": "code",
   "execution_count": null,
   "id": "642dfdf9-3a43-44f1-816f-c42819e3b9cd",
   "metadata": {},
   "outputs": [],
   "source": [
    "churn_df.head()"
   ]
  },
  {
   "cell_type": "code",
   "execution_count": null,
   "id": "478c722c-2569-4189-b97c-fad5e04db123",
   "metadata": {},
   "outputs": [],
   "source": [
    "test_df.head()"
   ]
  },
  {
   "cell_type": "markdown",
   "id": "14cf946d-55cf-4134-92d4-4e510ffd608d",
   "metadata": {},
   "source": [
    "### Profiling the data"
   ]
  },
  {
   "cell_type": "code",
   "execution_count": null,
   "id": "4d4e4568-702f-4d15-bae7-c3c1dd0b06c7",
   "metadata": {},
   "outputs": [],
   "source": [
    "profile = ProfileReport(churn_df)"
   ]
  },
  {
   "cell_type": "code",
   "execution_count": null,
   "id": "c92cd38e-6d89-4a89-91b4-e1d1e83d307f",
   "metadata": {
    "tags": []
   },
   "outputs": [],
   "source": [
    "profile.to_notebook_iframe()"
   ]
  },
  {
   "cell_type": "markdown",
   "id": "b0028240-1230-45a7-8934-a7098fc6f00f",
   "metadata": {},
   "source": [
    "### Analyzing features vs. target"
   ]
  },
  {
   "cell_type": "code",
   "execution_count": null,
   "id": "8fcc7580-eda0-419a-9734-f1acd1d29d8f",
   "metadata": {},
   "outputs": [],
   "source": [
    "plt.figure(figsize = (15, 3))\n",
    "sns.boxplot(data = churn_df, x = 'credit_score', y = 'churn', orient = 'h')\n",
    "plt.title('Credit score')\n",
    "plt.show()"
   ]
  },
  {
   "cell_type": "code",
   "execution_count": null,
   "id": "3063d065-af8f-4ef9-aa2e-b860da964ca3",
   "metadata": {},
   "outputs": [],
   "source": [
    "pd.crosstab(churn_df['churn'], churn_df['country'], normalize = 'columns')"
   ]
  },
  {
   "cell_type": "code",
   "execution_count": null,
   "id": "9cea97b0-e5ab-4749-8c84-98831618a639",
   "metadata": {},
   "outputs": [],
   "source": [
    "pd.crosstab(churn_df['churn'], churn_df['gender'], normalize = 'columns')"
   ]
  },
  {
   "cell_type": "code",
   "execution_count": null,
   "id": "eaaa307d-cb33-42d3-8187-e7ab1d7f3ce7",
   "metadata": {},
   "outputs": [],
   "source": [
    "plt.figure(figsize = (15, 3))\n",
    "sns.boxplot(data = churn_df, x = 'age', y = 'churn', orient = 'h')\n",
    "plt.title('Age')\n",
    "plt.show()"
   ]
  },
  {
   "cell_type": "code",
   "execution_count": null,
   "id": "249a0938-b9da-4e47-892d-5717b427f96b",
   "metadata": {},
   "outputs": [],
   "source": [
    "plt.figure(figsize = (15, 3))\n",
    "sns.boxplot(data = churn_df, x = 'tenure', y = 'churn', orient = 'h')\n",
    "plt.title('Tenure')\n",
    "plt.show()"
   ]
  },
  {
   "cell_type": "code",
   "execution_count": null,
   "id": "2ad0eeb2-918f-4312-9a7e-57d849363c6e",
   "metadata": {},
   "outputs": [],
   "source": [
    "plt.figure(figsize = (15, 3))\n",
    "sns.boxplot(data = churn_df, x = 'balance', y = 'churn', orient = 'h')\n",
    "plt.title('Balance')\n",
    "plt.show()"
   ]
  },
  {
   "cell_type": "code",
   "execution_count": null,
   "id": "3023c5fa-e14a-464c-bdc0-2ef392961e73",
   "metadata": {},
   "outputs": [],
   "source": [
    "pd.crosstab(churn_df['churn'], churn_df['products_number'], normalize = 'columns')"
   ]
  },
  {
   "cell_type": "code",
   "execution_count": null,
   "id": "98bf3574-46e3-4c1d-9b99-6e1b77c823c3",
   "metadata": {},
   "outputs": [],
   "source": [
    "pd.crosstab(churn_df['churn'], churn_df['credit_card'], normalize = 'columns')"
   ]
  },
  {
   "cell_type": "code",
   "execution_count": null,
   "id": "17005cf8-a1b7-436b-8e1a-a8d1434dcb48",
   "metadata": {},
   "outputs": [],
   "source": [
    "pd.crosstab(churn_df['churn'], churn_df['active_member'], normalize = 'columns')"
   ]
  },
  {
   "cell_type": "code",
   "execution_count": null,
   "id": "775e1176-e357-43aa-b494-faecce8b196f",
   "metadata": {},
   "outputs": [],
   "source": [
    "plt.figure(figsize = (15, 3))\n",
    "sns.boxplot(data = churn_df, x = 'estimated_salary', y = 'churn', orient = 'h')\n",
    "plt.title('Estimated salary')\n",
    "plt.show()"
   ]
  },
  {
   "cell_type": "markdown",
   "id": "9b433378-fadd-4714-944f-931dc50c749e",
   "metadata": {},
   "source": [
    "### Training a first set of models and selecting the best using F1"
   ]
  },
  {
   "cell_type": "code",
   "execution_count": null,
   "id": "e3672283-e015-475f-9e79-05d24ceca86f",
   "metadata": {},
   "outputs": [],
   "source": [
    "features = ['credit_score', 'age', 'tenure', 'balance', 'products_number', 'credit_card', 'active_member', 'estimated_salary']"
   ]
  },
  {
   "cell_type": "code",
   "execution_count": null,
   "id": "5332ba1f-3973-40b8-83b4-e8ac77f7b523",
   "metadata": {},
   "outputs": [],
   "source": [
    "tree = DecisionTreeClassifier(random_state = 10)"
   ]
  },
  {
   "cell_type": "code",
   "execution_count": null,
   "id": "dae27dfb-53cb-45b3-9eea-e629881dae81",
   "metadata": {},
   "outputs": [],
   "source": [
    "param_grid = {\n",
    "    'criterion': ['gini', 'entropy'],\n",
    "    'max_depth' : [2, 3, 4, 5, 6, 7, 8, 9, 10],\n",
    "    'class_weight': ['balanced', None]\n",
    "}"
   ]
  },
  {
   "cell_type": "code",
   "execution_count": null,
   "id": "e015ec32-5a65-4fa6-9a9a-d798e91d0590",
   "metadata": {},
   "outputs": [],
   "source": [
    "grid = GridSearchCV(estimator = tree, param_grid = param_grid, scoring = ['precision', 'recall', 'f1'], n_jobs = 1, refit = 'f1', cv = 5, return_train_score = True, verbose = 2)"
   ]
  },
  {
   "cell_type": "code",
   "execution_count": null,
   "id": "fb78509e-1819-487e-bdda-9f1dafcbbf81",
   "metadata": {
    "tags": []
   },
   "outputs": [],
   "source": [
    "grid.fit(churn_df[features], churn_df['churn'])"
   ]
  },
  {
   "cell_type": "code",
   "execution_count": null,
   "id": "8611f28c-1664-44f4-92ab-067acdafcbab",
   "metadata": {},
   "outputs": [],
   "source": [
    "grid.best_params_"
   ]
  },
  {
   "cell_type": "code",
   "execution_count": null,
   "id": "469a8f78-4958-415f-bab5-46edcd715c44",
   "metadata": {},
   "outputs": [],
   "source": [
    "best_results_df = pd.DataFrame(grid.cv_results_).iloc[grid.best_index_].reset_index().rename(columns = {'index': 'result', grid.best_index_: 'value'})\n",
    "best_results_df = best_results_df.loc[best_results_df['result'].str.contains('split')]\n",
    "[best_results_df['split'], best_results_df['dataset'], best_results_df['metric']] = zip(*best_results_df['result'].str.split('_'))\n",
    "best_results_df['dataset'].replace({'test': 'validation'}, inplace = True)\n",
    "del best_results_df['result']"
   ]
  },
  {
   "cell_type": "code",
   "execution_count": null,
   "id": "4e932cae-08ed-46a0-a5e5-bb6ee655fdf7",
   "metadata": {},
   "outputs": [],
   "source": [
    "plt.figure(figsize = (8, 10))\n",
    "sns.boxplot(data = best_results_df, y = 'value', x = 'metric', hue = 'dataset', showmeans = True)\n",
    "plt.show()"
   ]
  },
  {
   "cell_type": "code",
   "execution_count": null,
   "id": "56cb6d7f-9607-4fa5-baea-9b5c90238aa4",
   "metadata": {},
   "outputs": [],
   "source": [
    "train_val_preds = grid.best_estimator_.predict(churn_df[features])\n",
    "test_preds = grid.best_estimator_.predict(test_df[features])"
   ]
  },
  {
   "cell_type": "code",
   "execution_count": null,
   "id": "2b828cf0-baf6-4af2-a341-af9413e05d63",
   "metadata": {},
   "outputs": [],
   "source": [
    "fig, axes = plt.subplots(1, 2, figsize = (10, 4))\n",
    "\n",
    "train_val_cm = confusion_matrix(churn_df['churn'], train_val_preds, labels = grid.best_estimator_.classes_, normalize = 'true')\n",
    "train_val_disp = ConfusionMatrixDisplay(confusion_matrix = train_val_cm, display_labels = grid.best_estimator_.classes_)\n",
    "train_val_disp.plot(ax = axes[0])\n",
    "axes[0].set_title('Train/Val')\n",
    "\n",
    "test_cm = confusion_matrix(test_df['churn'], test_preds, labels = grid.best_estimator_.classes_, normalize = 'true')\n",
    "test_disp = ConfusionMatrixDisplay(confusion_matrix = test_cm, display_labels = grid.best_estimator_.classes_)\n",
    "test_disp.plot(ax = axes[1])\n",
    "axes[1].set_title('Test')\n",
    "\n",
    "plt.show()"
   ]
  },
  {
   "cell_type": "code",
   "execution_count": null,
   "id": "e14d4787-f632-44db-a414-602d70dd2bff",
   "metadata": {},
   "outputs": [],
   "source": [
    "print('Precision:')\n",
    "print('- Train/Val:', precision_score(churn_df['churn'], train_val_preds))\n",
    "print('- Test:', precision_score(test_df['churn'], test_preds))\n",
    "print('\\nRecall:')\n",
    "print('- Train/Val:', recall_score(churn_df['churn'], train_val_preds))\n",
    "print('- Test:', recall_score(test_df['churn'], test_preds))\n",
    "print('\\nF1:')\n",
    "print('- Train/Val:', f1_score(churn_df['churn'], train_val_preds))\n",
    "print('- Test:', f1_score(test_df['churn'], test_preds))"
   ]
  },
  {
   "cell_type": "markdown",
   "id": "321a80fb-da2b-4810-8e2e-5c223b6d45cf",
   "metadata": {},
   "source": [
    "### Adding categorical features and training with new algorithms"
   ]
  },
  {
   "cell_type": "code",
   "execution_count": null,
   "id": "e9d5bb9b-88f4-41e6-bca6-4c9c389d0e2c",
   "metadata": {},
   "outputs": [],
   "source": [
    "features2 = ['credit_score', 'age', 'tenure', 'balance', 'products_number', 'credit_card', 'active_member', 'estimated_salary', 'gender', 'country']"
   ]
  },
  {
   "cell_type": "code",
   "execution_count": null,
   "id": "410d8a6b-589d-4910-8507-1ac9fbda6195",
   "metadata": {},
   "outputs": [],
   "source": [
    "pipeline = Pipeline([\n",
    "    ('transformer', ColumnTransformer([\n",
    "        ('ordinal', OrdinalEncoder(), ['gender']),\n",
    "        ('categorical', OneHotEncoder(sparse = False, handle_unknown = 'ignore'), ['country'])\n",
    "    ], remainder = 'passthrough')),\n",
    "    ('poly', 'passthrough'),\n",
    "    ('normalizer', StandardScaler()),\n",
    "    ('classifier',  DecisionTreeClassifier())\n",
    "]) "
   ]
  },
  {
   "cell_type": "code",
   "execution_count": null,
   "id": "926599c5-3dd4-4b0d-8f25-718b6cdc8cad",
   "metadata": {},
   "outputs": [],
   "source": [
    "param_grid2 = [\n",
    "    {\n",
    "        'classifier': [DecisionTreeClassifier(random_state = 20)],\n",
    "        'classifier__criterion': ['gini', 'entropy'],\n",
    "        'classifier__max_depth' : [2, 3, 4, 5, 6, 7, 8, 9, 10],\n",
    "        'classifier__class_weight': ['balanced', None]\n",
    "    },\n",
    "    {\n",
    "        'poly': [PolynomialFeatures()],\n",
    "        'poly__degree': [1, 2, 3, 4],\n",
    "        'normalizer': [StandardScaler(), MinMaxScaler()],\n",
    "        'classifier': [LogisticRegression()],\n",
    "        'classifier__penalty': ['none', 'l1', 'l2'],\n",
    "        'classifier__C': [0.001, 0.01, 0.1, 1.],\n",
    "        'classifier__class_weight': ['balanced', None]\n",
    "    }\n",
    "]"
   ]
  },
  {
   "cell_type": "code",
   "execution_count": null,
   "id": "679acc40-5dd6-47a1-b15c-cc5b5e2b0c48",
   "metadata": {},
   "outputs": [],
   "source": [
    "grid2 = GridSearchCV(estimator = pipeline, param_grid = param_grid2, scoring = ['precision', 'recall', 'f1'], n_jobs = 1, refit = 'f1', cv = 5, return_train_score = True, verbose = 2)"
   ]
  },
  {
   "cell_type": "code",
   "execution_count": null,
   "id": "c875bf53-1724-400f-ae72-900926d891b7",
   "metadata": {
    "tags": []
   },
   "outputs": [],
   "source": [
    "grid2.fit(churn_df[features2], churn_df['churn'])"
   ]
  },
  {
   "cell_type": "code",
   "execution_count": null,
   "id": "f1a05906-c889-48c2-88c5-4f4c3b038de2",
   "metadata": {},
   "outputs": [],
   "source": [
    "grid2.best_params_"
   ]
  },
  {
   "cell_type": "code",
   "execution_count": null,
   "id": "d004577d-39c2-45ee-a763-e52aac4123b4",
   "metadata": {},
   "outputs": [],
   "source": [
    "best_results_df = pd.DataFrame(grid2.cv_results_).iloc[grid2.best_index_].reset_index().rename(columns = {'index': 'result', grid2.best_index_: 'value'})\n",
    "best_results_df = best_results_df.loc[best_results_df['result'].str.contains('split')]\n",
    "[best_results_df['split'], best_results_df['dataset'], best_results_df['metric']] = zip(*best_results_df['result'].str.split('_'))\n",
    "best_results_df['dataset'].replace({'test': 'validation'}, inplace = True)\n",
    "del best_results_df['result']"
   ]
  },
  {
   "cell_type": "code",
   "execution_count": null,
   "id": "6a54f605-f34d-4b07-88d4-5cf55291fa41",
   "metadata": {},
   "outputs": [],
   "source": [
    "plt.figure(figsize = (8, 10))\n",
    "sns.boxplot(data = best_results_df, y = 'value', x = 'metric', hue = 'dataset', showmeans = True)\n",
    "plt.show()"
   ]
  },
  {
   "cell_type": "code",
   "execution_count": null,
   "id": "a5b2c93f-0838-4414-8751-a217769b0189",
   "metadata": {},
   "outputs": [],
   "source": [
    "train_val_preds = grid2.best_estimator_.predict(churn_df[features2])\n",
    "test_preds = grid2.best_estimator_.predict(test_df[features2])"
   ]
  },
  {
   "cell_type": "code",
   "execution_count": null,
   "id": "7b92da65-51d6-43f5-b6ac-a4e755d82d4b",
   "metadata": {},
   "outputs": [],
   "source": [
    "fig, axes = plt.subplots(1, 2, figsize = (10, 4))\n",
    "\n",
    "train_val_cm = confusion_matrix(churn_df['churn'], train_val_preds, labels = grid2.best_estimator_.classes_, normalize = 'true')\n",
    "train_val_disp = ConfusionMatrixDisplay(confusion_matrix = train_val_cm, display_labels = grid2.best_estimator_.classes_)\n",
    "train_val_disp.plot(ax = axes[0])\n",
    "axes[0].set_title('Train/Val')\n",
    "\n",
    "test_cm = confusion_matrix(test_df['churn'], test_preds, labels = grid2.best_estimator_.classes_, normalize = 'true')\n",
    "test_disp = ConfusionMatrixDisplay(confusion_matrix = test_cm, display_labels = grid2.best_estimator_.classes_)\n",
    "test_disp.plot(ax = axes[1])\n",
    "axes[1].set_title('Test')\n",
    "\n",
    "plt.show()"
   ]
  },
  {
   "cell_type": "code",
   "execution_count": null,
   "id": "7f82c191-6615-4d0f-a65f-f8a403b4e678",
   "metadata": {},
   "outputs": [],
   "source": [
    "print('Precision:')\n",
    "print('- Train/Val:', precision_score(churn_df['churn'], train_val_preds))\n",
    "print('- Test:', precision_score(test_df['churn'], test_preds))\n",
    "print('\\nRecall:')\n",
    "print('- Train/Val:', recall_score(churn_df['churn'], train_val_preds))\n",
    "print('- Test:', recall_score(test_df['churn'], test_preds))\n",
    "print('\\nF1:')\n",
    "print('- Train/Val:', f1_score(churn_df['churn'], train_val_preds))\n",
    "print('- Test:', f1_score(test_df['churn'], test_preds))"
   ]
  },
  {
   "cell_type": "markdown",
   "id": "423afd0e-1fec-4e1c-b4d8-f8669a61b9d6",
   "metadata": {},
   "source": [
    "### Exporting the pipeline"
   ]
  },
  {
   "cell_type": "raw",
   "id": "86c45ea6-7275-4fba-bb3d-5b14b1b9febb",
   "metadata": {
    "tags": []
   },
   "source": [
    "dump(grid2.best_estimator_, './models/churn-v1.0.joblib') "
   ]
  },
  {
   "cell_type": "markdown",
   "id": "dca242cf-e452-41fa-a3b2-6b565b686bbf",
   "metadata": {},
   "source": [
    "### Explaining predictions"
   ]
  },
  {
   "cell_type": "code",
   "execution_count": null,
   "id": "d5f4c470-d652-42a1-bf61-7b9923f57a9f",
   "metadata": {},
   "outputs": [],
   "source": [
    "test_preds_proba = grid.best_estimator_.predict_proba(test_df[features])[:, 1]"
   ]
  },
  {
   "cell_type": "code",
   "execution_count": null,
   "id": "6a6c77b7-b2d3-4ee8-adbb-770c300c7b36",
   "metadata": {},
   "outputs": [],
   "source": [
    "test_df['prob'] = test_preds_proba"
   ]
  },
  {
   "cell_type": "code",
   "execution_count": null,
   "id": "61993eb2-8876-4e75-907c-a2e203f0359a",
   "metadata": {},
   "outputs": [],
   "source": [
    "plt.hist(test_preds_proba)\n",
    "plt.title('Probability predictios for test dataset')\n",
    "plt.show()"
   ]
  },
  {
   "cell_type": "code",
   "execution_count": null,
   "id": "02cc024a-51d5-40d8-8bf9-65b2198949e4",
   "metadata": {},
   "outputs": [],
   "source": [
    "test_df.loc[test_preds_proba < 0.1]. head()"
   ]
  },
  {
   "cell_type": "code",
   "execution_count": null,
   "id": "b72e7465-9c80-4a8b-b07e-98dd1c6db5c0",
   "metadata": {},
   "outputs": [],
   "source": [
    "test_df.loc[test_preds_proba > 0.9].head()"
   ]
  },
  {
   "cell_type": "code",
   "execution_count": null,
   "id": "091d8df6-e63b-42fd-8963-5beccb064c37",
   "metadata": {},
   "outputs": [],
   "source": [
    "test_df.loc[(test_preds_proba > 0.47) & (test_preds_proba < 0.53)].head()"
   ]
  },
  {
   "cell_type": "code",
   "execution_count": null,
   "id": "0e052628-8f64-48c3-82e6-524acdf4eea3",
   "metadata": {},
   "outputs": [],
   "source": [
    "explainer = shap.Explainer(grid.best_estimator_.predict, test_df[features])\n",
    "shap_values = explainer(test_df[features])"
   ]
  },
  {
   "cell_type": "markdown",
   "id": "c7182e44-5cdb-472e-a795-7382d991e049",
   "metadata": {},
   "source": [
    "**Explaining individual predictions:**"
   ]
  },
  {
   "cell_type": "code",
   "execution_count": null,
   "id": "37294cd5-e79c-4a18-b90b-1b588899e8f2",
   "metadata": {},
   "outputs": [],
   "source": [
    "shap.plots.waterfall(shap_values[1])"
   ]
  },
  {
   "cell_type": "code",
   "execution_count": null,
   "id": "8617e79a-f411-4fe1-83bb-d994fc900b4c",
   "metadata": {},
   "outputs": [],
   "source": [
    "shap.plots.waterfall(shap_values[148])"
   ]
  },
  {
   "cell_type": "code",
   "execution_count": null,
   "id": "c06ced4d-ec46-4214-babe-9ab8e714dfc2",
   "metadata": {},
   "outputs": [],
   "source": [
    "shap.plots.waterfall(shap_values[85])"
   ]
  },
  {
   "cell_type": "markdown",
   "id": "8f88b23d-578c-47d9-8658-740c88b4033b",
   "metadata": {},
   "source": [
    "**Explaining all instances:**"
   ]
  },
  {
   "cell_type": "code",
   "execution_count": null,
   "id": "2efab627-c5e3-410a-a101-7c30705324d0",
   "metadata": {},
   "outputs": [],
   "source": [
    "shap.summary_plot(shap_values, plot_type = 'violin')"
   ]
  },
  {
   "cell_type": "code",
   "execution_count": null,
   "id": "8ca027dc-b972-4857-b4c8-75bf40c6913c",
   "metadata": {},
   "outputs": [],
   "source": []
  }
 ],
 "metadata": {
  "kernelspec": {
   "display_name": "Python 3 (ipykernel)",
   "language": "python",
   "name": "python3"
  },
  "language_info": {
   "codemirror_mode": {
    "name": "ipython",
    "version": 3
   },
   "file_extension": ".py",
   "mimetype": "text/x-python",
   "name": "python",
   "nbconvert_exporter": "python",
   "pygments_lexer": "ipython3",
   "version": "3.9.12"
  }
 },
 "nbformat": 4,
 "nbformat_minor": 5
}
